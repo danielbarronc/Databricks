{
 "cells": [
  {
   "cell_type": "code",
   "execution_count": 0,
   "metadata": {
    "application/vnd.databricks.v1+cell": {
     "cellMetadata": {
      "byteLimit": 2048000,
      "rowLimit": 10000
     },
     "inputWidgets": {},
     "nuid": "1ff9eba9-e0ce-4e78-b773-e1f0c6585a02",
     "showTitle": false,
     "tableResultSettingsMap": {},
     "title": ""
    }
   },
   "outputs": [],
   "source": [
    "data = [(\"101\",\"John\",\"USA\",\"CA\"),\n",
    "(\"102\",\"Ray\",\"USA\",\"NY\"),\n",
    "(\"103\",\"Ron\",\"USA\",\"NY\"),\n",
    "(\"104\",\"Smith\",\"USA\",\"FL\")\n",
    "]\n",
    "rdd = spark.sparkContext.parallelize(data)"
   ]
  },
  {
   "cell_type": "code",
   "execution_count": 0,
   "metadata": {
    "application/vnd.databricks.v1+cell": {
     "cellMetadata": {
      "byteLimit": 2048000,
      "rowLimit": 10000
     },
     "inputWidgets": {},
     "nuid": "2544c193-dc04-4fe2-9e70-f3336bd6872a",
     "showTitle": false,
     "tableResultSettingsMap": {},
     "title": ""
    }
   },
   "outputs": [],
   "source": [
    "EmpEmails = {\"101\":\"john@gmail.com\", \"102\":\"ray@gmail.com\",\n",
    "\"103\":\"ron@gmail.com\",\"104\":\"smith@gmail.com\"}\n",
    "broadcastEmails = spark.sparkContext.broadcast(EmpEmails)"
   ]
  },
  {
   "cell_type": "code",
   "execution_count": 0,
   "metadata": {
    "application/vnd.databricks.v1+cell": {
     "cellMetadata": {
      "byteLimit": 2048000,
      "rowLimit": 10000
     },
     "inputWidgets": {},
     "nuid": "4d677f0f-4c8d-48d8-bda7-383ce7c33663",
     "showTitle": false,
     "tableResultSettingsMap": {},
     "title": ""
    }
   },
   "outputs": [],
   "source": [
    "def getEmail(empId):\n",
    "    return broadcastEmails.value[empId]\n",
    "\n",
    "results=rdd.map(lambda x:(x[0],x[1],x[2],x[3],getEmail(x[0]))).collect()\n",
    "print(results)"
   ]
  },
  {
   "cell_type": "code",
   "execution_count": 0,
   "metadata": {
    "application/vnd.databricks.v1+cell": {
     "cellMetadata": {
      "byteLimit": 2048000,
      "rowLimit": 10000
     },
     "inputWidgets": {},
     "nuid": "50ff11bb-e650-4882-babb-fe6b65ea40ef",
     "showTitle": false,
     "tableResultSettingsMap": {},
     "title": ""
    }
   },
   "outputs": [],
   "source": [
    "EmpEmails = {\"101\":\"john@gmail.com\", \"102\":\"ray@gmail.com\",\n",
    "\"103\":\"ron@gmail.com\",\"104\":\"smith@gmail.com\"}\n",
    "broadcastEmails = spark.sparkContext.broadcast(EmpEmails)"
   ]
  },
  {
   "cell_type": "code",
   "execution_count": 0,
   "metadata": {
    "application/vnd.databricks.v1+cell": {
     "cellMetadata": {
      "byteLimit": 2048000,
      "rowLimit": 10000
     },
     "inputWidgets": {},
     "nuid": "ff842295-7f1e-49b9-8393-e1a8d088f072",
     "showTitle": false,
     "tableResultSettingsMap": {},
     "title": ""
    }
   },
   "outputs": [],
   "source": [
    "data = [(\"101\",\"John\",\"USA\",\"CA\"),\n",
    "(\"102\",\"Ray\",\"USA\",\"NY\"),\n",
    "(\"103\",\"Ron\",\"USA\",\"NY\"),\n",
    "(\"104\",\"Smith\",\"USA\",\"FL\")\n",
    "]"
   ]
  },
  {
   "cell_type": "code",
   "execution_count": 0,
   "metadata": {
    "application/vnd.databricks.v1+cell": {
     "cellMetadata": {
      "byteLimit": 2048000,
      "rowLimit": 10000
     },
     "inputWidgets": {},
     "nuid": "f5f691b6-47c5-4ee8-9a9e-0ee7010a81a4",
     "showTitle": false,
     "tableResultSettingsMap": {},
     "title": ""
    }
   },
   "outputs": [],
   "source": [
    "rdd = spark.sparkContext.parallelize(data)"
   ]
  },
  {
   "cell_type": "code",
   "execution_count": 0,
   "metadata": {
    "application/vnd.databricks.v1+cell": {
     "cellMetadata": {
      "byteLimit": 2048000,
      "rowLimit": 10000
     },
     "inputWidgets": {},
     "nuid": "4be2e6f3-a5cd-4a1e-b66e-2eaaa87baced",
     "showTitle": false,
     "tableResultSettingsMap": {},
     "title": ""
    }
   },
   "outputs": [],
   "source": [
    "columns = [\"firstname\",\"lastname\",\"country\",\"state\"]\n",
    "df = spark.createDataFrame(data = data, schema = columns)"
   ]
  },
  {
   "cell_type": "code",
   "execution_count": 0,
   "metadata": {
    "application/vnd.databricks.v1+cell": {
     "cellMetadata": {
      "byteLimit": 2048000,
      "rowLimit": 10000
     },
     "inputWidgets": {},
     "nuid": "45162012-ed00-4a26-8653-2d0e0b21bf88",
     "showTitle": false,
     "tableResultSettingsMap": {},
     "title": ""
    }
   },
   "outputs": [],
   "source": [
    "def getEmail(empId):\n",
    "    return broadcastEmails.value[empId]\n",
    "\n",
    "columns1 = [\"firstname\",\"lastname\",\"country\",\"state\",\"email\"]\n",
    "df2=df.rdd.map(lambda x: (x[0],x[1],x[2],x[3],getEmail(x[0]))).toDF(columns1)\n",
    "display(df2)"
   ]
  }
 ],
 "metadata": {
  "application/vnd.databricks.v1+notebook": {
   "computePreferences": null,
   "dashboards": [],
   "environmentMetadata": {
    "base_environment": "",
    "environment_version": "3"
   },
   "inputWidgetPreferences": null,
   "language": "python",
   "notebookMetadata": {
    "pythonIndentUnit": 4
   },
   "notebookName": "Test-10-",
   "widgets": {}
  },
  "language_info": {
   "name": "python"
  }
 },
 "nbformat": 4,
 "nbformat_minor": 0
}
