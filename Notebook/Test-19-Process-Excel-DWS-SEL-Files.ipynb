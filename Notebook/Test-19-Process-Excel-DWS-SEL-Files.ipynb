{
 "cells": [
  {
   "cell_type": "code",
   "execution_count": 0,
   "metadata": {
    "application/vnd.databricks.v1+cell": {
     "cellMetadata": {
      "byteLimit": 2048000,
      "rowLimit": 10000
     },
     "inputWidgets": {},
     "nuid": "cbe535cb-0bad-440c-9a4a-893037e7eb05",
     "showTitle": false,
     "tableResultSettingsMap": {},
     "title": ""
    }
   },
   "outputs": [],
   "source": [
    "external_location_path = \"abfss://blobstorage@datablobstorage001.dfs.core.windows.net/landingzone/Excel\"\n",
    "try:\n",
    "    # List files and directories in the external location\n",
    "    files = dbutils.fs.ls(external_location_path)\n",
    "    print(\"Files in the external location:\")\n",
    "    for file in files:\n",
    "        print(file.name)\n",
    "except Exception as e:\n",
    "    print(f\"Failed to access external location: {e}\")\n"
   ]
  },
  {
   "cell_type": "code",
   "execution_count": 0,
   "metadata": {
    "application/vnd.databricks.v1+cell": {
     "cellMetadata": {
      "byteLimit": 2048000,
      "rowLimit": 10000
     },
     "inputWidgets": {},
     "nuid": "5b976deb-0987-4455-8199-e9ce0ab6b986",
     "showTitle": true,
     "tableResultSettingsMap": {},
     "title": "2o. Revision"
    }
   },
   "outputs": [],
   "source": [
    "dbutils.fs.cp(\n",
    "        \"abfss://blobstorage@datablobstorage001.dfs.core.windows.net/landingzone/Excel/BD_Entidades.xlsx\",\n",
    "        \"dbfs:/tmp/BD_Entidades.xlsx\",\n",
    "        recurse=False\n",
    "    )"
   ]
  },
  {
   "cell_type": "code",
   "execution_count": 0,
   "metadata": {
    "application/vnd.databricks.v1+cell": {
     "cellMetadata": {
      "byteLimit": 2048000,
      "rowLimit": 10000
     },
     "inputWidgets": {},
     "nuid": "f0f3149e-d99d-45a0-9265-af8479eb0e24",
     "showTitle": false,
     "tableResultSettingsMap": {},
     "title": ""
    }
   },
   "outputs": [],
   "source": [
    "dbutils.fs.cp(\n",
    "    \"abfss://blobstorage@datablobstorage001.dfs.core.windows.net/landingzone/Excel/BD_Entidades.xlsx\",\n",
    "    \"dbfs:/tmp/BD_Entidades.xlsx\"\n",
    ")"
   ]
  },
  {
   "cell_type": "code",
   "execution_count": 0,
   "metadata": {
    "application/vnd.databricks.v1+cell": {
     "cellMetadata": {
      "byteLimit": 2048000,
      "rowLimit": 10000
     },
     "inputWidgets": {},
     "nuid": "59f3982e-2456-4605-871d-312f36549e4c",
     "showTitle": true,
     "tableResultSettingsMap": {},
     "title": "2o. Revision"
    }
   },
   "outputs": [],
   "source": [
    "files = dbutils.fs.ls(\"dbfs:/tmp/\")\n",
    "for f in files:\n",
    "    print(f\"{f.path}: size={f.size}\")"
   ]
  },
  {
   "cell_type": "code",
   "execution_count": 0,
   "metadata": {
    "application/vnd.databricks.v1+cell": {
     "cellMetadata": {
      "byteLimit": 2048000,
      "rowLimit": 10000
     },
     "inputWidgets": {},
     "nuid": "5ed5520f-9781-4960-b442-6e9d62ebc882",
     "showTitle": true,
     "tableResultSettingsMap": {},
     "title": "2o. Revision"
    }
   },
   "outputs": [],
   "source": [
    "try:\n",
    "    with open(\"/dbfs/tmp/BD_Entidades.xlsx\", \"rb\") as f:\n",
    "        content = f.read(1024)  # Read the first 1024 bytes\n",
    "        print(f\"File header: {content}\")\n",
    "except Exception as e:\n",
    "    print(f\"Error accessing file: {e}\")"
   ]
  },
  {
   "cell_type": "code",
   "execution_count": 0,
   "metadata": {
    "application/vnd.databricks.v1+cell": {
     "cellMetadata": {
      "byteLimit": 2048000,
      "rowLimit": 10000
     },
     "inputWidgets": {},
     "nuid": "84dc77b8-a3e9-4eea-9acc-dd01bb7ef0ac",
     "showTitle": false,
     "tableResultSettingsMap": {},
     "title": ""
    }
   },
   "outputs": [],
   "source": [
    "location_path = \"dbfs:/tmp/BD_Entidades.xlsx\"\n",
    "\n",
    "df = spark.read.format(\"com.crealytics.spark.excel\") \\\n",
    "    .option(\"header\", \"true\") \\\n",
    "    .option(\"inferSchema\", \"true\") \\\n",
    "    .option(\"dataAddress\", \"'Bushings'!A1\") \\\n",
    "    .option(\"addColorColumns\", \"false\") \\\n",
    "    .load(\"dbfs:/tmp/BD_Entidades.xlsx\")  # Ensure the package is installed or use pandas as an alternative.\n",
    "\n",
    "df.show()\n",
    "\n"
   ]
  },
  {
   "cell_type": "code",
   "execution_count": 0,
   "metadata": {
    "application/vnd.databricks.v1+cell": {
     "cellMetadata": {
      "byteLimit": 2048000,
      "rowLimit": 10000
     },
     "inputWidgets": {},
     "nuid": "41d685d6-8c51-4998-a34e-1797a96960bb",
     "showTitle": false,
     "tableResultSettingsMap": {},
     "title": ""
    }
   },
   "outputs": [],
   "source": [
    "dbutils.fs.ls(\"dbfs:/tmp/\") "
   ]
  },
  {
   "cell_type": "code",
   "execution_count": 0,
   "metadata": {
    "application/vnd.databricks.v1+cell": {
     "cellMetadata": {
      "byteLimit": 2048000,
      "rowLimit": 10000
     },
     "inputWidgets": {},
     "nuid": "873da6c1-11b7-4fbc-b535-cfd00b214ba0",
     "showTitle": false,
     "tableResultSettingsMap": {},
     "title": ""
    }
   },
   "outputs": [],
   "source": [
    "try:\n",
    "    with open(\"/dbfs/tmp/BD_Entidades.xlsx\", \"rb\") as f:\n",
    "        header = f.read(10)  # Read the first 10 bytes as a test\n",
    "        print(f\"File is accessible. First bytes: {header}\")\n",
    "except FileNotFoundError:\n",
    "    print(\"File not found!\")\n",
    "except Exception as e:\n",
    "    print(f\"An error occurred while accessing the file: {e}\")"
   ]
  },
  {
   "cell_type": "code",
   "execution_count": 0,
   "metadata": {
    "application/vnd.databricks.v1+cell": {
     "cellMetadata": {
      "byteLimit": 2048000,
      "rowLimit": 10000
     },
     "inputWidgets": {},
     "nuid": "97a0bad4-db4e-44f7-a58c-12589400d18e",
     "showTitle": false,
     "tableResultSettingsMap": {},
     "title": ""
    }
   },
   "outputs": [],
   "source": [
    "import pandas as pd\n",
    "\n",
    "# Use the local file system path for DBFS\n",
    "file_path = \"/dbfs/tmp/BD_Entidades1.xlsx\"  # Adjust for \"/dbfs/\"\n",
    "\n",
    "try:\n",
    "    # Read the Excel file using pandas\n",
    "    df = pd.read_excel(file_path, engine=\"openpyxl\")\n",
    "    display(df)\n",
    "except FileNotFoundError:\n",
    "    print(f\"File not found: {file_path}\")\n",
    "except Exception as e:\n",
    "    print(f\"An error occurred: {e}\")"
   ]
  },
  {
   "cell_type": "code",
   "execution_count": 0,
   "metadata": {
    "application/vnd.databricks.v1+cell": {
     "cellMetadata": {
      "byteLimit": 2048000,
      "rowLimit": 10000
     },
     "inputWidgets": {},
     "nuid": "6fd060d4-d914-4c81-8e9f-975642b91734",
     "showTitle": false,
     "tableResultSettingsMap": {},
     "title": ""
    }
   },
   "outputs": [],
   "source": [
    "files = dbutils.fs.ls(\"dbfs:/tmp/\")\n",
    "for file in files:\n",
    "    print(file.path, file.size)\n",
    "\n",
    "# Confirm the file exists in DBFS\n",
    "file_path = \"dbfs:/tmp/BD_Entidades.xlsx\"\n",
    "local_file_path = \"/dbfs/tmp/BD_Entidades.xlsx\"\n",
    "print(\"File exists:\", dbutils.fs.head(file_path, 10))  # Read first 10 bytes to check contents"
   ]
  },
  {
   "cell_type": "code",
   "execution_count": 0,
   "metadata": {
    "application/vnd.databricks.v1+cell": {
     "cellMetadata": {
      "byteLimit": 2048000,
      "rowLimit": 10000
     },
     "inputWidgets": {},
     "nuid": "e2801434-202b-4f7b-944d-5776fa6779f4",
     "showTitle": false,
     "tableResultSettingsMap": {},
     "title": ""
    }
   },
   "outputs": [],
   "source": [
    "dbutils.fs.cp(\"dbfs:/tmp/BD_Entidades.xlsx\", \"file:/tmp/BD_Entidades.xlsx\")"
   ]
  }
 ],
 "metadata": {
  "application/vnd.databricks.v1+notebook": {
   "computePreferences": null,
   "dashboards": [],
   "environmentMetadata": {
    "base_environment": "",
    "environment_version": "4"
   },
   "inputWidgetPreferences": null,
   "language": "python",
   "notebookMetadata": {
    "pythonIndentUnit": 4
   },
   "notebookName": "Test-19-Process-Excel-DWS-SEL-Files",
   "widgets": {}
  },
  "language_info": {
   "name": "python"
  }
 },
 "nbformat": 4,
 "nbformat_minor": 0
}
