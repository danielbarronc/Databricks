{
 "cells": [
  {
   "cell_type": "code",
   "execution_count": 0,
   "metadata": {
    "application/vnd.databricks.v1+cell": {
     "cellMetadata": {
      "byteLimit": 2048000,
      "rowLimit": 10000
     },
     "inputWidgets": {},
     "nuid": "70cf1d8f-84c9-422b-a48e-d12d341fc712",
     "showTitle": false,
     "tableResultSettingsMap": {},
     "title": ""
    }
   },
   "outputs": [],
   "source": [
    "def myUpperCase(p_data):\n",
    "    return p_data.upper()\n",
    "\n",
    "data = [\"James\", \"Smith\"]\n",
    "rdd = sc.parallelize(data)\n",
    "rdd1 = rdd.map(myUpperCase)\n",
    "print(rdd1.collect())\n"
   ]
  },
  {
   "cell_type": "code",
   "execution_count": 0,
   "metadata": {
    "application/vnd.databricks.v1+cell": {
     "cellMetadata": {
      "byteLimit": 2048000,
      "rowLimit": 10000
     },
     "inputWidgets": {},
     "nuid": "050b79b4-d7b6-4965-adde-59df6d998e69",
     "showTitle": false,
     "tableResultSettingsMap": {},
     "title": ""
    }
   },
   "outputs": [],
   "source": [
    "def myflatMap(data):\n",
    "    return data.split(\" \")\n",
    "\n",
    "data = [(\"Project Gutemberg's\"),\n",
    "        (\"Alice's Adventures in Wonderland\"),\n",
    "        (\"Projec Gutemberg's\"),\n",
    "        (\"Adventres in Wonderland\"),\n",
    "        (\"roject Gtemberg's\")]\n",
    "rdd = spark.sparkContext.parallelize(data)\n",
    "rdd1 = rdd.flatMap(myflatMap)\n",
    "print(rdd1.collect())\n"
   ]
  },
  {
   "cell_type": "code",
   "execution_count": 0,
   "metadata": {
    "application/vnd.databricks.v1+cell": {
     "cellMetadata": {
      "byteLimit": 2048000,
      "rowLimit": 10000
     },
     "inputWidgets": {},
     "nuid": "14cd24b6-933c-433a-974b-d854e4131e2d",
     "showTitle": false,
     "tableResultSettingsMap": {},
     "title": ""
    }
   },
   "outputs": [],
   "source": [
    "rdd_filter = rdd1.filter(lambda x: 'Adventures' in x)\n",
    "print(rdd_filter.collect())"
   ]
  },
  {
   "cell_type": "code",
   "execution_count": 0,
   "metadata": {
    "application/vnd.databricks.v1+cell": {
     "cellMetadata": {
      "byteLimit": 2048000,
      "rowLimit": 10000
     },
     "inputWidgets": {},
     "nuid": "c03900af-ebd5-4fca-87f8-19642580c789",
     "showTitle": false,
     "tableResultSettingsMap": {},
     "title": ""
    }
   },
   "outputs": [],
   "source": [
    "rdd_distinct = rdd_filter.distinct()\n",
    "print(rdd_distinct.collect())"
   ]
  }
 ],
 "metadata": {
  "application/vnd.databricks.v1+notebook": {
   "computePreferences": null,
   "dashboards": [],
   "environmentMetadata": {
    "base_environment": "",
    "environment_version": "3"
   },
   "inputWidgetPreferences": null,
   "language": "python",
   "notebookMetadata": {
    "pythonIndentUnit": 4
   },
   "notebookName": "Test-07-RDD-Transformation",
   "widgets": {}
  },
  "language_info": {
   "name": "python"
  }
 },
 "nbformat": 4,
 "nbformat_minor": 0
}
