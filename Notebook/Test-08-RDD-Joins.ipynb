{
 "cells": [
  {
   "cell_type": "code",
   "execution_count": 0,
   "metadata": {
    "application/vnd.databricks.v1+cell": {
     "cellMetadata": {
      "byteLimit": 2048000,
      "rowLimit": 10000
     },
     "inputWidgets": {},
     "nuid": "f9f9becd-9382-4836-844d-8583ed2ec83c",
     "showTitle": false,
     "tableResultSettingsMap": {},
     "title": ""
    }
   },
   "outputs": [],
   "source": [
    "rdd1 = spark.sparkContext.parallelize([(\"a\", 1), (\"b\", 2), (\"c\", 3)])\n",
    "rdd2 = spark.sparkContext.parallelize([(\"b\", 4), (\"c\", 5), (\"d\", 6)])\n",
    "\n",
    "print(\"RDD 1: \", rdd1.collect())\n",
    "print(\"RDD 2: \", rdd2.collect())"
   ]
  },
  {
   "cell_type": "code",
   "execution_count": 0,
   "metadata": {
    "application/vnd.databricks.v1+cell": {
     "cellMetadata": {
      "byteLimit": 2048000,
      "rowLimit": 10000
     },
     "inputWidgets": {},
     "nuid": "3bab3319-274c-40cd-9e13-2cc402deb735",
     "showTitle": false,
     "tableResultSettingsMap": {},
     "title": ""
    }
   },
   "outputs": [],
   "source": [
    "inner_join_rdd = rdd1.join(rdd2)\n",
    "\n",
    "print(\"Inner Join Result: \", inner_join_rdd.collect())"
   ]
  },
  {
   "cell_type": "code",
   "execution_count": 0,
   "metadata": {
    "application/vnd.databricks.v1+cell": {
     "cellMetadata": {
      "byteLimit": 2048000,
      "rowLimit": 10000
     },
     "inputWidgets": {},
     "nuid": "9a0669aa-10ea-427b-bcb5-694d7b5c6624",
     "showTitle": false,
     "tableResultSettingsMap": {},
     "title": ""
    }
   },
   "outputs": [],
   "source": [
    "df1 = rdd1.toDF([\"key\", \"value1\"])\n",
    "df2 = rdd2.toDF([\"key\", \"value2\"])\n",
    "\n",
    "joined_df = df1.join(\n",
    "    df2,\n",
    "    on=\"key\",\n",
    "    how=\"inner\"\n",
    ")\n",
    "\n",
    "display(joined_df)"
   ]
  },
  {
   "cell_type": "code",
   "execution_count": 0,
   "metadata": {
    "application/vnd.databricks.v1+cell": {
     "cellMetadata": {
      "byteLimit": 2048000,
      "rowLimit": 10000
     },
     "inputWidgets": {},
     "nuid": "e8eab92a-3a51-425a-955f-0fc9aefac082",
     "showTitle": false,
     "tableResultSettingsMap": {},
     "title": ""
    }
   },
   "outputs": [],
   "source": [
    "left_outer_join_rdd = rdd1.leftOuterJoin(rdd2)\n",
    "\n",
    "# Collect and print results\n",
    "print(\"Left Outer Join Result: \", left_outer_join_rdd.collect())\n",
    "# Output: Left Outer Join Result: [('a', (1, None)), ('b', (2, 4)), ('c', (3, 5))]"
   ]
  }
 ],
 "metadata": {
  "application/vnd.databricks.v1+notebook": {
   "computePreferences": null,
   "dashboards": [],
   "environmentMetadata": {
    "base_environment": "",
    "environment_version": "3"
   },
   "inputWidgetPreferences": null,
   "language": "python",
   "notebookMetadata": {
    "pythonIndentUnit": 4
   },
   "notebookName": "Test-08-RDD-Joins",
   "widgets": {}
  },
  "language_info": {
   "name": "python"
  }
 },
 "nbformat": 4,
 "nbformat_minor": 0
}
