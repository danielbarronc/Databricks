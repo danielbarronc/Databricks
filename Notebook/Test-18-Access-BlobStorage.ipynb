{
 "cells": [
  {
   "cell_type": "code",
   "execution_count": 0,
   "metadata": {
    "application/vnd.databricks.v1+cell": {
     "cellMetadata": {
      "byteLimit": 2048000,
      "rowLimit": 10000
     },
     "inputWidgets": {},
     "nuid": "96348c60-90a7-4cfd-bfe5-895277ec0802",
     "showTitle": false,
     "tableResultSettingsMap": {},
     "title": ""
    }
   },
   "outputs": [],
   "source": [
    "external_location_path = \"abfss://blobstorage@datablobstorage001.dfs.core.windows.net/landingzone\"\n",
    "\n",
    "try:\n",
    "    # List files and directories in the external location\n",
    "    files = dbutils.fs.ls(external_location_path)\n",
    "    print(\"Files in the external location:\")\n",
    "    for file in files:\n",
    "        print(file.name)\n",
    "except Exception as e:\n",
    "    print(f\"Failed to access external location: {e}\")"
   ]
  },
  {
   "cell_type": "code",
   "execution_count": 0,
   "metadata": {
    "application/vnd.databricks.v1+cell": {
     "cellMetadata": {
      "byteLimit": 2048000,
      "rowLimit": 10000
     },
     "inputWidgets": {},
     "nuid": "e4dbdd73-fb29-46ee-8b89-622a37bb403c",
     "showTitle": false,
     "tableResultSettingsMap": {},
     "title": ""
    }
   },
   "outputs": [],
   "source": [
    "file_path = \"abfss://blobstorage@datablobstorage001.dfs.core.windows.net/landingzone/customers-100000.csv\"\n",
    "\n",
    "df = spark.read.format(\"csv\").option(\"header\", \"true\").load(file_path)\n",
    "\n",
    "# Display the DataFrame\n",
    "display(df)\n"
   ]
  }
 ],
 "metadata": {
  "application/vnd.databricks.v1+notebook": {
   "computePreferences": null,
   "dashboards": [],
   "environmentMetadata": {
    "base_environment": "",
    "environment_version": "4"
   },
   "inputWidgetPreferences": null,
   "language": "python",
   "notebookMetadata": {
    "pythonIndentUnit": 4
   },
   "notebookName": "Test-18-Access-BlobStorage",
   "widgets": {}
  },
  "language_info": {
   "name": "python"
  }
 },
 "nbformat": 4,
 "nbformat_minor": 0
}
