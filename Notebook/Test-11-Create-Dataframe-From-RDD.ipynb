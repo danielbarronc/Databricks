{
 "cells": [
  {
   "cell_type": "code",
   "execution_count": 0,
   "metadata": {
    "application/vnd.databricks.v1+cell": {
     "cellMetadata": {
      "byteLimit": 2048000,
      "rowLimit": 10000
     },
     "inputWidgets": {},
     "nuid": "6519a1d7-30ab-4441-be92-f0513c1f3703",
     "showTitle": false,
     "tableResultSettingsMap": {},
     "title": ""
    }
   },
   "outputs": [],
   "source": [
    "data = [('James', 'Smith', 'M', 3000), ('Anna', 'Rose', 'F', 4100), ('Robert', 'Williams', 'M', 6200)]\n",
    "rdd = sc.parallelize(data)\n",
    "\n",
    "schema = ['first_name', 'last_name', 'gender', 'salary']\n",
    "df = rdd.toDF(schema)\n",
    "display(df)\n",
    "\n",
    "df1 = spark.createDataFrame(rdd, schema)\n",
    "display(df1)"
   ]
  }
 ],
 "metadata": {
  "application/vnd.databricks.v1+notebook": {
   "computePreferences": null,
   "dashboards": [],
   "environmentMetadata": {
    "base_environment": "",
    "environment_version": "3"
   },
   "inputWidgetPreferences": null,
   "language": "python",
   "notebookMetadata": {
    "pythonIndentUnit": 4
   },
   "notebookName": "Test-11-Create-Dataframe-From-RDD",
   "widgets": {}
  },
  "language_info": {
   "name": "python"
  }
 },
 "nbformat": 4,
 "nbformat_minor": 0
}
